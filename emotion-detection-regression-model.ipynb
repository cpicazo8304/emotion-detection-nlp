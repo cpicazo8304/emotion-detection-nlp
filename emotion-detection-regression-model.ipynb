{
 "cells": [
  {
   "cell_type": "code",
   "execution_count": 77,
   "id": "79a7adb1-cc16-425c-ac05-1dbbf605ee69",
   "metadata": {
    "tags": []
   },
   "outputs": [],
   "source": [
    "from sklearn.feature_extraction.text import TfidfVectorizer\n",
    "from sklearn.linear_model import LogisticRegression\n",
    "from sklearn.model_selection import cross_val_score, train_test_split, GridSearchCV\n",
    "from sklearn.metrics import accuracy_score, classification_report"
   ]
  },
  {
   "cell_type": "code",
   "execution_count": 63,
   "id": "0150fed4-a796-4199-a05c-e1ce56e72005",
   "metadata": {
    "tags": []
   },
   "outputs": [],
   "source": [
    "def split_text_data(f):\n",
    "    corpus = []\n",
    "    labels = []\n",
    "    with open(f, 'r') as file:\n",
    "        for line in file:\n",
    "            contents = line.split(';')\n",
    "            corpus.append(contents[0].strip())\n",
    "            labels.append(contents[1].strip())\n",
    "    return corpus, labels"
   ]
  },
  {
   "cell_type": "code",
   "execution_count": 95,
   "id": "3a4f30c5-7013-4bd6-a6de-e017a51be4b2",
   "metadata": {
    "tags": []
   },
   "outputs": [],
   "source": [
    "def get_data(corpus, labels):\n",
    "    # Create a TF-IDF Vectorizer\n",
    "    vectorizer = TfidfVectorizer()\n",
    "    \n",
    "    # Transform the text data into TF-IDF embeddings\n",
    "    X_tfidf = vectorizer.fit_transform(corpus)\n",
    "\n",
    "    # get y values that the model will train on\n",
    "    y = []\n",
    "\n",
    "    # enumerate the emotion values so that the logistic regression model can\n",
    "    # train on these labels\n",
    "    for label in labels:\n",
    "        if label == 'anger':\n",
    "            y.append(0)\n",
    "        elif label == 'sadness':\n",
    "            y.append(1)\n",
    "        elif label == 'love':\n",
    "            y.append(2)\n",
    "        elif label == 'joy':\n",
    "            y.append(3)\n",
    "        elif label == 'surprise':\n",
    "            y.append(4)\n",
    "        elif label == 'fear':\n",
    "            y.append(5)\n",
    "            \n",
    "    # split data into a training set and a temporary set\n",
    "    X_train, X_temp, y_train, y_temp = train_test_split(X_tfidf, y, test_size=0.2, random_state=42)\n",
    "    \n",
    "    # split temporary set into a validation set and testing set\n",
    "    X_val, X_test, y_val, y_test = train_test_split(X_temp, y_temp, test_size=0.5, random_state=42)\n",
    "    \n",
    "    return X_train, y_train, X_val, y_val, X_test, y_test, vectorizer"
   ]
  },
  {
   "cell_type": "code",
   "execution_count": 96,
   "id": "7026f8b5-79ed-4ff2-b647-a32d2a5236d8",
   "metadata": {
    "tags": []
   },
   "outputs": [],
   "source": [
    "# split the text data into class labels and features to be transferred into numerical values to be trained on\n",
    "corpus_train, labels_train = split_text_data('./emotions-dataset-for-nlp/train.txt')\n",
    "\n",
    "# split the text data into class labels and features to be transferred into numerical values to be validated on\n",
    "corpus_val, labels_val = split_text_data('./emotions-dataset-for-nlp/val.txt')\n",
    "\n",
    "# split the text data into class labels and features to be transferred into numerical values to be tested on\n",
    "corpus_test, labels_test = split_text_data('./emotions-dataset-for-nlp/test.txt')\n",
    "\n",
    "# combine the sets together in order to vectorize all of them together then split them off back into their separate sets\n",
    "corpus = corpus_train + corpus_val + corpus_test\n",
    "labels = labels_train + labels_val + labels_test\n",
    "X_train, y_train, X_val, y_val, X_test, y_test, vectorizer = get_data(corpus, labels)"
   ]
  },
  {
   "cell_type": "code",
   "execution_count": 97,
   "id": "a8d35a44-273c-4d01-80ce-db33d3a3437b",
   "metadata": {
    "tags": []
   },
   "outputs": [
    {
     "name": "stdout",
     "output_type": "stream",
     "text": [
      "Best Hyperparameters: {'C': 10, 'solver': 'liblinear'}\n"
     ]
    }
   ],
   "source": [
    "# get Logistic Regression Model\n",
    "model = LogisticRegression(max_iter=500)\n",
    "\n",
    "# Define hyperparameters to tune\n",
    "param_grid = {'C': [0.1, 1, 10], 'solver': ['liblinear', 'lbfgs']}\n",
    "\n",
    "# Use GridSearchCV for cross-validation on the training set\n",
    "grid_search = GridSearchCV(model, param_grid, cv=5)\n",
    "grid_search.fit(X_train, y_train)\n",
    "\n",
    "print(\"Best Hyperparameters:\", grid_search.best_params_)"
   ]
  },
  {
   "cell_type": "code",
   "execution_count": 98,
   "id": "1265589d-6610-426f-bbac-f63381008ed0",
   "metadata": {
    "tags": []
   },
   "outputs": [
    {
     "name": "stdout",
     "output_type": "stream",
     "text": [
      "Validation Accuracy: 0.893\n"
     ]
    }
   ],
   "source": [
    "best_model = grid_search.best_estimator_\n",
    "best_model.fit(X_train, y_train)\n",
    "\n",
    "val_accuracy = best_model.score(X_val, y_val)\n",
    "print(\"Validation Accuracy:\", val_accuracy)"
   ]
  },
  {
   "cell_type": "code",
   "execution_count": 99,
   "id": "dde4382c-0af7-4356-a950-abb74f8d9e2b",
   "metadata": {
    "tags": []
   },
   "outputs": [
    {
     "name": "stdout",
     "output_type": "stream",
     "text": [
      "Test Accuracy: 0.8905\n"
     ]
    }
   ],
   "source": [
    "test_accuracy = best_model.score(X_test, y_test)\n",
    "print(\"Test Accuracy:\", test_accuracy)"
   ]
  },
  {
   "cell_type": "code",
   "execution_count": 100,
   "id": "9a618796-c3bd-4f0e-bc4c-9d4a1267a45c",
   "metadata": {
    "tags": []
   },
   "outputs": [],
   "source": [
    "def convert_pred(prediction):\n",
    "    if prediction == 0:\n",
    "            return 'anger'\n",
    "    elif prediction == 1:\n",
    "            return 'sadness'\n",
    "    elif prediction == 2:\n",
    "            return 'love'\n",
    "    elif prediction == 3:\n",
    "            return 'joy'\n",
    "    elif prediction == 4:\n",
    "            return 'surpise'\n",
    "    elif prediction == 5:\n",
    "            return 'fear'"
   ]
  },
  {
   "cell_type": "code",
   "execution_count": 109,
   "id": "5658d74b-a110-4a77-8b08-3d967bd7f1fa",
   "metadata": {
    "tags": []
   },
   "outputs": [
    {
     "name": "stdout",
     "output_type": "stream",
     "text": [
      "joy\n"
     ]
    }
   ],
   "source": [
    "# test a phrase\n",
    "phrase = ['I celebrated my graduation.']\n",
    "\n",
    "phrase_tfidf = vectorizer.transform(phrase)\n",
    "\n",
    "y_pred = best_model.predict(phrase_tfidf)\n",
    "print(convert_pred(y_pred))"
   ]
  },
  {
   "cell_type": "code",
   "execution_count": null,
   "id": "1a96165e-6d87-4b94-aaf0-f0dbd4520383",
   "metadata": {},
   "outputs": [],
   "source": []
  }
 ],
 "metadata": {
  "kernelspec": {
   "display_name": "Python 3 (ipykernel)",
   "language": "python",
   "name": "python3"
  },
  "language_info": {
   "codemirror_mode": {
    "name": "ipython",
    "version": 3
   },
   "file_extension": ".py",
   "mimetype": "text/x-python",
   "name": "python",
   "nbconvert_exporter": "python",
   "pygments_lexer": "ipython3",
   "version": "3.11.5"
  }
 },
 "nbformat": 4,
 "nbformat_minor": 5
}
